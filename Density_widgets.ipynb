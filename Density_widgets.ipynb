{
 "cells": [
  {
   "cell_type": "code",
   "execution_count": 44,
   "metadata": {
    "collapsed": false
   },
   "outputs": [
    {
     "name": "stdout",
     "output_type": "stream",
     "text": [
      "Populating the interactive namespace from numpy and matplotlib\n"
     ]
    }
   ],
   "source": [
    "%pylab inline"
   ]
  },
  {
   "cell_type": "code",
   "execution_count": 45,
   "metadata": {
    "collapsed": false
   },
   "outputs": [],
   "source": [
    "from IPython.html.widgets import interact"
   ]
  },
  {
   "cell_type": "code",
   "execution_count": 61,
   "metadata": {
    "collapsed": false
   },
   "outputs": [],
   "source": [
    "def mass_plummer(a, M, r):\n",
    "    #a = a*units.kpc\n",
    "    Mass = M*r**3 / (a**2 + r**2)**(3/2.)\n",
    "    plt.plot(r, Mass, lw=3, alpha=0.7)\n",
    "    plt.xlim(0, r)\n",
    "   \n",
    "def rho_plummer(a, M, r):\n",
    "    rho = 3*M / (4 *np.pi * a**3) * (1 + r**2/a**2)**(-5./2.)\n",
    "    plt.plot(r, rho, lw=3, alpha=0.7)\n",
    "    plt.xlim(0, r)\n",
    "\n",
    "def potential_plummer(a, M, r):\n",
    "    #a = a*units.kpc\n",
    "    phi =  - G*M / np.sqrt(r**2 + a**2)\n",
    "    plt.plot(r, phi, lw=3, alpha=0.7)\n",
    "    plt.xlim(0, r)\n",
    "\n",
    "def vc_plummer(a, M, r):\n",
    "    #a = a*units.kpc\n",
    "    vc = np.sqrt(G*M*( r**2/(r**2 + a**2)**(3/2.)))\n",
    "    plt.plot(r, vc, lw=3, alpha=0.7)\n",
    "    #plt.ylim(0, 4)\n",
    "    plt.xlim(0, r)\n",
    "    #return vc\n",
    "\n",
    "def plot_random_graph(a, M, r, generator):\n",
    "    g = generator(a, M, r)\n",
    "    plt.show()"
   ]
  },
  {
   "cell_type": "code",
   "execution_count": 62,
   "metadata": {
    "collapsed": false
   },
   "outputs": [],
   "source": [
    "#r = linspace(0, 25)\n",
    "from astropy import constants\n",
    "G = constants.G\n",
    "G = G.value"
   ]
  },
  {
   "cell_type": "code",
   "execution_count": 63,
   "metadata": {
    "collapsed": false
   },
   "outputs": [
    {
     "data": {
      "image/png": "[encoded data removed]",
      "text/plain": [
       "<matplotlib.figure.Figure at 0x7ffb93e88f10>"
      ]
     },
     "metadata": {},
     "output_type": "display_data"
    },
    {
     "data": {
      "text/plain": [
       "None"
      ]
     },
     "metadata": {},
     "output_type": "display_data"
    }
   ],
   "source": [
    "interact(plot_random_graph, a=(2,15), M=(8e11, 2e12),  r=(1, 50), p=(0.0, 1.0, 0.001),\n",
    "        generator={'Mass': mass_plummer,\n",
    "                   r'Density': rho_plummer,\n",
    "                   r'Potential': potential_plummer,\n",
    "                   u'Rotation curve': vc_plummer,\n",
    "                   });"
   ]
  },
  {
   "cell_type": "code",
   "execution_count": null,
   "metadata": {
    "collapsed": true
   },
   "outputs": [],
   "source": []
  }
 ],
 "metadata": {
  "kernelspec": {
   "display_name": "Python 2",
   "language": "python",
   "name": "python2"
  },
  "language_info": {
   "codemirror_mode": {
    "name": "ipython",
    "version": 2
   },
   "file_extension": ".py",
   "mimetype": "text/x-python",
   "name": "python",
   "nbconvert_exporter": "python",
   "pygments_lexer": "ipython2",
   "version": "2.7.6"
  }
 },
 "nbformat": 4,
 "nbformat_minor": 0
}
