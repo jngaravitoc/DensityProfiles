{
 "cells": [
  {
   "cell_type": "code",
   "execution_count": 1,
   "metadata": {
    "collapsed": false
   },
   "outputs": [
    {
     "name": "stdout",
     "output_type": "stream",
     "text": [
      "Populating the interactive namespace from numpy and matplotlib\n"
     ]
    }
   ],
   "source": [
    "%pylab inline"
   ]
  },
  {
   "cell_type": "code",
   "execution_count": 2,
   "metadata": {
    "collapsed": false
   },
   "outputs": [
    {
     "name": "stderr",
     "output_type": "stream",
     "text": [
      ":0: FutureWarning: IPython widgets are experimental and may change in the future.\n"
     ]
    }
   ],
   "source": [
    "from IPython.html.widgets import interact"
   ]
  },
  {
   "cell_type": "code",
   "execution_count": 9,
   "metadata": {
    "collapsed": false
   },
   "outputs": [],
   "source": [
    "def mass_plummer(a, M, r, p):\n",
    "    #a = a*units.kpc\n",
    "    Mass = M*r**3 / (a**2 + r**2)**(3/2.)\n",
    "    if p==1:\n",
    "        plot(r, Mass, lw=3, alpha=0.7)\n",
    "        xlim(0, r)\n",
    "    elif p==0:\n",
    "        return Mass\n",
    "\n",
    "def rho_plummer(a, M):\n",
    "    #a = a*units.kpc\n",
    "    rho = 3*M / (4 *np.pi * a**3) * (1 + r**2/a**2)**(-5/2)\n",
    "    plot(r, rho)\n",
    "    return rho\n",
    "\n",
    "def potential_plummer(a, M):\n",
    "    #a = a*units.kpc\n",
    "    phi =  - G*M / np.sqrt(r**2 + a**2)\n",
    "    plot(r, phi)\n",
    "    return phi\n",
    "\n",
    "def vc_plummer(a, M):\n",
    "    #a = a*units.kpc\n",
    "    vc = np.sqrt(G*M*( r**2/(r**2 + a**2)**(3/2.)))\n",
    "    plot(r, vc)\n",
    "    plt.ylim(0, 4)\n",
    "    return vc\n",
    "\n",
    "def plot_random_graph(a, M, r, P, generator):\n",
    "    g = generator(a, M, r, P)\n",
    "    plt.show()"
   ]
  },
  {
   "cell_type": "code",
   "execution_count": 7,
   "metadata": {
    "collapsed": false
   },
   "outputs": [],
   "source": [
    "#r = linspace(0, 25)\n",
    "from astropy import constants\n",
    "G = constants.G\n",
    "G = G.value"
   ]
  },
  {
   "cell_type": "code",
   "execution_count": 10,
   "metadata": {
    "collapsed": false
   },
   "outputs": [
    {
     "data": {
      "image/png": "[encoded data removed]",
      "text/plain": [
       "<matplotlib.figure.Figure at 0x7fe46bebca50>"
      ]
     },
     "metadata": {},
     "output_type": "display_data"
    }
   ],
   "source": [
    "interact(plot_random_graph, a=(2,15), M=(8e11, 2e12),  r=(1, 50), P=1, p=(0.0, 1.0, 0.001),\n",
    "        generator={'Mass': mass_plummer,\n",
    "                   r'Density': rho_plummer,\n",
    "                   r'Potential': potential_plummer,\n",
    "                   u'Rotation curve': vc_plummer,\n",
    "                   });"
   ]
  },
  {
   "cell_type": "code",
   "execution_count": 19,
   "metadata": {
    "collapsed": false
   },
   "outputs": [
    {
     "data": {
      "image/png": "[encoded data removed]",
      "text/plain": [
       "<matplotlib.figure.Figure at 0x7faf164ae390>"
      ]
     },
     "metadata": {},
     "output_type": "display_data"
    }
   ],
   "source": [
    "mass_plummer(1, 2, 1)"
   ]
  },
  {
   "cell_type": "code",
   "execution_count": null,
   "metadata": {
    "collapsed": true
   },
   "outputs": [],
   "source": []
  }
 ],
 "metadata": {
  "kernelspec": {
   "display_name": "Python 2",
   "language": "python",
   "name": "python2"
  },
  "language_info": {
   "codemirror_mode": {
    "name": "ipython",
    "version": 2
   },
   "file_extension": ".py",
   "mimetype": "text/x-python",
   "name": "python",
   "nbconvert_exporter": "python",
   "pygments_lexer": "ipython2",
   "version": "2.7.6"
  }
 },
 "nbformat": 4,
 "nbformat_minor": 0
}
