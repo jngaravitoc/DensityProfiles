{
 "cells": [
  {
   "cell_type": "code",
   "execution_count": 8,
   "metadata": {
    "collapsed": false
   },
   "outputs": [
    {
     "name": "stdout",
     "output_type": "stream",
     "text": [
      "Populating the interactive namespace from numpy and matplotlib\n"
     ]
    }
   ],
   "source": [
    "%pylab inline\n",
    "from astropy import constants\n",
    "from astropy import units \n",
    "font = {'size':15, 'family':'serif'}\n",
    "matplotlib.rc('font', **font)"
   ]
  },
  {
   "cell_type": "code",
   "execution_count": 13,
   "metadata": {
    "collapsed": true
   },
   "outputs": [],
   "source": [
    "def H(z, Omega0, H_0):\n",
    "    Lambda0 = 1. - Omega0\n",
    "    return H_0*(Omega0*(1+z)**3 - (Omega0+Lambda0-1)*(1+z)**2 + Lambda0)**0.5\n",
    "\n",
    "def Omega_z(z,Omega0, H_0):\n",
    "    return Omega0 * (1+z)**3 * (H_0/H(z,Omega0, H_0))**2\n",
    "\n",
    "def rho_crit(G, z, Omega0, H_0):\n",
    "    H2 = H(z, Omega0, H_0)**2\n",
    "    rho = 3*H2 / (8*np.pi*G)\n",
    "    return rho\n",
    "\n",
    "def rvir(Mvir, z):\n",
    "    Mvir = Mvir * units.Msun\n",
    "    G = constants.G\n",
    "    G = G.to(units.kiloparsec**3 / (units.Msun * units.s**2)) \n",
    "    H_0 = 70*units.km / (units.s * units.Mpc)# km/sMpc\n",
    "    H_0 = H_0.to(units.Mpc / (units.s * units.Mpc))\n",
    "    Omega0 = 0.27\n",
    "    Deltavir = 360\n",
    "    pcrit = rho_crit(G, z, Omega0 , H_0)\n",
    "    Rvir = ( 3*Mvir / (4 * np.pi * Deltavir * pcrit * Omega0) )**(1/3.)\n",
    "    return Rvir"
   ]
  },
  {
   "cell_type": "code",
   "execution_count": 32,
   "metadata": {
    "collapsed": true
   },
   "outputs": [],
   "source": [
    "def vc_plummer(a, r, M):\n",
    "    #a = a*units.kpc\n",
    "    vc = np.sqrt(G*M*( r**2/(r**2 + a**2)**(3/2.)))\n",
    "    #vc = vc.to(units.km / units.s)\n",
    "    return vc\n",
    "\n",
    "def vc_Hernquist(a, r, M):\n",
    "    #a = a*units.kpc\n",
    "    vc = np.sqrt(G*M*r/(r+a)**2)\n",
    "    #vc = vc.to(units.km / units.s)\n",
    "    return vc\n",
    "\n",
    "def vc_NFW(c, r, M, G):\n",
    "    H_0 = 70#*units.km / (units.s * units.Mpc)\n",
    "    pcrit = rho_crit(G, 0, 0.27, H_0)\n",
    "    rvir = (3* M / (360*pcrit*4*np.pi) )**(1/3.)\n",
    "    #rvir = rvir.to(units.kpc)\n",
    "    a = rvir / c\n",
    "    #print a\n",
    "    vc = np.sqrt( ( 2*M*G* (log(1 + r/a) - (r/a) / (1 + r/a)) )/r )\n",
    "    #vc = vc.to(units.km / units.s)\n",
    "    return vc\n",
    "\n",
    "def MN_vc(a, b, G, M, r, z=0):\n",
    "    #z = z*units.kpc\n",
    "    #a = a*units.kpc\n",
    "    #b = b*units.kpc\n",
    "    #r = r*units.kpc\n",
    "    vc = r*np.sqrt(G*M / ( (r**2 + (a + b)**2)**(3/2.0) ))\n",
    "    return vc"
   ]
  },
  {
   "cell_type": "code",
   "execution_count": 33,
   "metadata": {
    "collapsed": false
   },
   "outputs": [
    {
     "name": "stderr",
     "output_type": "stream",
     "text": [
      "/usr/local/lib/python2.7/dist-packages/ipykernel/__main__.py:20: RuntimeWarning: invalid value encountered in divide\n"
     ]
    }
   ],
   "source": [
    "r = np.linspace(0, 30)\n",
    "G = constants.G\n",
    "G = G.to(units.kiloparsec**3 / (units.Msun * units.s**2)) \n",
    "G = G.value\n",
    "H_0 = 70\n",
    "rb = np.linspace(0, 10)\n",
    "Mb = 1E11\n",
    "c = 11\n",
    "MNFW = 1E12 \n",
    "MMN = 1E11\n",
    "a = 1\n",
    "b = 1\n",
    "vc = vc_Hernquist(5, rb, Mb) + vc_NFW(c, r, MNFW, G) + MN_vc(a, b, G, MMN, r, z=0)\n"
   ]
  },
  {
   "cell_type": "code",
   "execution_count": 31,
   "metadata": {
    "collapsed": false
   },
   "outputs": [
    {
     "data": {
      "text/plain": [
       "[<matplotlib.lines.Line2D at 0x7faab270b050>]"
      ]
     },
     "execution_count": 31,
     "metadata": {},
     "output_type": "execute_result"
    },
    {
     "data": {
      "image/png": "[encoded data removed]",
      "text/plain": [
       "<matplotlib.figure.Figure at 0x7faab275fcd0>"
      ]
     },
     "metadata": {},
     "output_type": "display_data"
    }
   ],
   "source": [
    "plot(r, vc)"
   ]
  },
  {
   "cell_type": "code",
   "execution_count": null,
   "metadata": {
    "collapsed": true
   },
   "outputs": [],
   "source": []
  }
 ],
 "metadata": {
  "kernelspec": {
   "display_name": "Python 2",
   "language": "python",
   "name": "python2"
  },
  "language_info": {
   "codemirror_mode": {
    "name": "ipython",
    "version": 2
   },
   "file_extension": ".py",
   "mimetype": "text/x-python",
   "name": "python",
   "nbconvert_exporter": "python",
   "pygments_lexer": "ipython2",
   "version": "2.7.6"
  }
 },
 "nbformat": 4,
 "nbformat_minor": 0
}
