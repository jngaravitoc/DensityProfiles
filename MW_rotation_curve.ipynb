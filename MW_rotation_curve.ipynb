{
 "cells": [
  {
   "cell_type": "code",
   "execution_count": 1,
   "metadata": {
    "collapsed": false
   },
   "outputs": [
    {
     "name": "stderr",
     "output_type": "stream",
     "text": [
      "/usr/lib/pymodules/python2.7/matplotlib/__init__.py:758: UserWarning: Found matplotlib configuration in ~/.matplotlib/. To conform with the XDG base directory standard, this configuration location has been deprecated on Linux, and the new location is now '/home/ngaravito/.config'/matplotlib/. Please move your configuration there to ensure that matplotlib will continue to find it in the future.\n",
      "  _get_xdg_config_dir())\n",
      "/usr/local/lib/python2.7/dist-packages/IPython/kernel/__init__.py:13: ShimWarning: The `IPython.kernel` package has been deprecated. You should import from ipykernel or jupyter_client instead.\n",
      "  \"You should import from ipykernel or jupyter_client instead.\", ShimWarning)\n"
     ]
    },
    {
     "name": "stdout",
     "output_type": "stream",
     "text": [
      "Populating the interactive namespace from numpy and matplotlib\n"
     ]
    }
   ],
   "source": [
    "%pylab inline\n",
    "from astropy import constants\n",
    "from astropy import units \n",
    "font = {'size':15, 'family':'serif'}\n",
    "matplotlib.rc('font', **font)"
   ]
  },
  {
   "cell_type": "code",
   "execution_count": 2,
   "metadata": {
    "collapsed": true
   },
   "outputs": [],
   "source": [
    "def H(z, Omega0, H_0):\n",
    "    Lambda0 = 1. - Omega0\n",
    "    return H_0*(Omega0*(1+z)**3 - (Omega0+Lambda0-1)*(1+z)**2 + Lambda0)**0.5\n",
    "\n",
    "def Omega_z(z,Omega0, H_0):\n",
    "    return Omega0 * (1+z)**3 * (H_0/H(z,Omega0, H_0))**2\n",
    "\n",
    "def rho_crit(G, z, Omega0, H_0):\n",
    "    H2 = H(z, Omega0, H_0)**2\n",
    "    rho = 3*H2 / (8*np.pi*G)\n",
    "    return rho\n",
    "\n",
    "def rvir(Mvir, z):\n",
    "    Mvir = Mvir * units.Msun\n",
    "    G = constants.G\n",
    "    G = G.to(units.kiloparsec**3 / (units.Msun * units.s**2)) \n",
    "    H_0 = 70*units.km / (units.s * units.Mpc)# km/sMpc\n",
    "    H_0 = H_0.to(units.Mpc / (units.s * units.Mpc))\n",
    "    Omega0 = 0.27\n",
    "    Deltavir = 360\n",
    "    pcrit = rho_crit(G, z, Omega0 , H_0)\n",
    "    Rvir = ( 3*Mvir / (4 * np.pi * Deltavir * pcrit * Omega0) )**(1/3.)\n",
    "    return Rvir"
   ]
  },
  {
   "cell_type": "code",
   "execution_count": 163,
   "metadata": {
    "collapsed": false
   },
   "outputs": [],
   "source": [
    "def vc_plummer(a, r, M):\n",
    "    #a = a*units.kpc\n",
    "    vc = np.sqrt(G*M*( r**2/(r**2 + a**2)**(3/2.)))\n",
    "    vc = vc.to(units.km / units.s)\n",
    "    return vc.value\n",
    "\n",
    "def vc_Hernquist(a, r, M , G):\n",
    "    #a = a*units.kpc\n",
    "    vc = np.sqrt(G*M*r/(r+a)**2)\n",
    "    vc = vc.to(units.km / units.s)\n",
    "    return vc.value\n",
    "\n",
    "def vc_NFW(c, r, M, G):\n",
    "    H_0 = 70*units.km / (units.s * units.Mpc)\n",
    "    #pcrit = rho_crit(G, 0, 0.27, H_0)\n",
    "    #rvir = (3* M / (360*pcrit*4*np.pi) )**(1/3.)\n",
    "    #rvir = rvir.to(units.kpc)\n",
    "    rvir = 258.0 * units.kpc\n",
    "    a = rvir / c\n",
    "    #print a\n",
    "    vc = np.sqrt( ( M*G* (log(1 + r/a) - (r/a) / (1 + r/a)) )/r )\n",
    "    vc = vc.to(units.km / units.s)\n",
    "    return vc.value\n",
    "\n",
    "def MN_vc(a, b, G, M, r, z=0):\n",
    "    #z = z*units.kpc\n",
    "    #a = a*units.kpc\n",
    "    #b = b*units.kpc\n",
    "    #r = r*units.kpc\n",
    "    vc = r*np.sqrt(G*M / ( (r**2 + (a + b)**2)**(3/2.0) ))\n",
    "    vc = vc.to(units.km / units.s)\n",
    "    return vc.value"
   ]
  },
  {
   "cell_type": "code",
   "execution_count": 173,
   "metadata": {
    "collapsed": false
   },
   "outputs": [
    {
     "name": "stdout",
     "output_type": "stream",
     "text": [
      "10000000000.0 solMass 1e+12 solMass 55000000000.0 solMass\n"
     ]
    }
   ],
   "source": [
    "# G\n",
    "G = constants.G\n",
    "G = G.to(units.kiloparsec**3 / (units.Msun * units.s**2)) \n",
    "# Masses \n",
    "Mb = 1E10 * units.Msun\n",
    "MNFW = 1E12 * units.Msun\n",
    "MMN = 5.5E10 * units.Msun\n",
    "print Mb, MNFW, MMN\n",
    "# Parameters\n",
    "c = 12\n",
    "a_bulge = 0.6 * units.kpc\n",
    "a = 3.5 * units.kpc\n",
    "b = 1.0 * units.kpc"
   ]
  },
  {
   "cell_type": "code",
   "execution_count": 174,
   "metadata": {
    "collapsed": false
   },
   "outputs": [],
   "source": [
    "r = np.linspace(0, 20, 100)  * units.kpc\n",
    "vc_bulge =  vc_Hernquist(a_bulge, r, Mb, G)\n",
    "vc_disk = MN_vc(a, b, G, MMN, r, z=0)\n",
    "vc_halo =  vc_NFW(c, r, MNFW, G)\n",
    "vc =  np.sqrt(vc_bulge**2  + vc_disk**2 + vc_halo**2)"
   ]
  },
  {
   "cell_type": "code",
   "execution_count": 183,
   "metadata": {
    "collapsed": false
   },
   "outputs": [
    {
     "data": {
      "image/png": "[encoded data removed]",
      "text/plain": [
       "<matplotlib.figure.Figure at 0x7f577c30a750>"
      ]
     },
     "metadata": {},
     "output_type": "display_data"
    }
   ],
   "source": [
    "plt.figure(figsize=(6, 5))\n",
    "plot(r, vc, lw=2, label='MW')\n",
    "plot(r, vc_bulge, lw=2, label='Bulge')\n",
    "plot(r, vc_disk, lw=2, label='Disk')\n",
    "plot(r, vc_halo, lw=2, label='Halo')\n",
    "plt.axvline(8, c='k', ls='--', lw=2, alpha=0.6)\n",
    "plt.axhline(220, c='k', ls='--', lw=2, alpha=0.6)\n",
    "legend(loc='best', fontsize=15)\n",
    "ylim([0, 350])\n",
    "xlabel('$r(Kpc)$', fontsize=25)\n",
    "ylabel('$v_c(Km/s)$', fontsize=25)\n",
    "savefig('MWBEsla07.png', bbox_inches='tight')"
   ]
  },
  {
   "cell_type": "code",
   "execution_count": null,
   "metadata": {
    "collapsed": true
   },
   "outputs": [],
   "source": []
  },
  {
   "cell_type": "code",
   "execution_count": null,
   "metadata": {
    "collapsed": true
   },
   "outputs": [],
   "source": []
  }
 ],
 "metadata": {
  "kernelspec": {
   "display_name": "Python 2",
   "language": "python",
   "name": "python2"
  },
  "language_info": {
   "codemirror_mode": {
    "name": "ipython",
    "version": 2
   },
   "file_extension": ".py",
   "mimetype": "text/x-python",
   "name": "python",
   "nbconvert_exporter": "python",
   "pygments_lexer": "ipython2",
   "version": "2.7.6"
  }
 },
 "nbformat": 4,
 "nbformat_minor": 0
}
