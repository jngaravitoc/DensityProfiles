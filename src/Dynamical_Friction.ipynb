{
 "cells": [
  {
   "cell_type": "code",
   "execution_count": 17,
   "metadata": {
    "collapsed": false
   },
   "outputs": [
    {
     "name": "stdout",
     "output_type": "stream",
     "text": [
      "Populating the interactive namespace from numpy and matplotlib\n"
     ]
    }
   ],
   "source": [
    "%pylab inline\n",
    "from astropy import units\n",
    "import astropy as apy\n",
    "from profiles import *\n",
    "from math import erf"
   ]
  },
  {
   "cell_type": "code",
   "execution_count": 50,
   "metadata": {
    "collapsed": false
   },
   "outputs": [],
   "source": [
    "def df(rps, vmv, M_sat):\n",
    "    rho = dens_sis(10, 50, vmv)\n",
    "    vmv = vmv * units.km / units.s\n",
    "    vmv = vmv.to(units.kpc / units.s)\n",
    "    M_sat = M_sat * units.Msun\n",
    "    rps = rps * units.kpc\n",
    "    G = apy.constants.G\n",
    "    G = G.to(units.kpc**3 / units.Msun / units.s**2)\n",
    "    factor = - 4 * np.pi * G**2  \n",
    "    bmax = rps # Radial position of satellite at any given time\n",
    "    k = 3 * units.kpc # kpc\n",
    "    bmin = 1.6 * k\n",
    "    L = bmax / bmin\n",
    "    Coulomb = log(L)\n",
    "    sigma = vmv / np.sqrt(2)\n",
    "    X = vmv / ( np.sqrt(2) * sigma )\n",
    "    print erf(X)\n",
    "    F_df = factor * M_sat * rho * Coulomb / vmv**3 * (  erf(X) - 2*X/(np.sqrt(np.pi) * np.exp(-X**2))  ) * vmv\n",
    "    return F_df"
   ]
  },
  {
   "cell_type": "code",
   "execution_count": 51,
   "metadata": {
    "collapsed": false
   },
   "outputs": [
    {
     "name": "stdout",
     "output_type": "stream",
     "text": [
      "0.84270079295\n"
     ]
    },
    {
     "data": {
      "text/latex": [
       "$9.0593635 \\times 10^{-31} \\; \\mathrm{\\frac{kpc}{s^{2}}}$"
      ],
      "text/plain": [
       "<Quantity 9.059363484328157e-31 kpc / s2>"
      ]
     },
     "execution_count": 51,
     "metadata": {},
     "output_type": "execute_result"
    }
   ],
   "source": [
    "df(50, 100, 1E11)"
   ]
  },
  {
   "cell_type": "code",
   "execution_count": 19,
   "metadata": {
    "collapsed": true
   },
   "outputs": [],
   "source": [
    "dens_sis?"
   ]
  },
  {
   "cell_type": "code",
   "execution_count": null,
   "metadata": {
    "collapsed": true
   },
   "outputs": [],
   "source": []
  }
 ],
 "metadata": {
  "kernelspec": {
   "display_name": "Python 2",
   "language": "python",
   "name": "python2"
  },
  "language_info": {
   "codemirror_mode": {
    "name": "ipython",
    "version": 2
   },
   "file_extension": ".py",
   "mimetype": "text/x-python",
   "name": "python",
   "nbconvert_exporter": "python",
   "pygments_lexer": "ipython2",
   "version": "2.7.6"
  }
 },
 "nbformat": 4,
 "nbformat_minor": 0
}
