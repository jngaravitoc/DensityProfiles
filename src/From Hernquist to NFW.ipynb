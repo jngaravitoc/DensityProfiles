{
 "cells": [
  {
   "cell_type": "code",
   "execution_count": 81,
   "metadata": {
    "collapsed": false
   },
   "outputs": [
    {
     "name": "stdout",
     "output_type": "stream",
     "text": [
      "Populating the interactive namespace from numpy and matplotlib\n"
     ]
    }
   ],
   "source": [
    "%pylab inline\n",
    "font = {'size':15, 'family':'serif'}\n",
    "matplotlib.rc('font', **font)"
   ]
  },
  {
   "cell_type": "code",
   "execution_count": 2,
   "metadata": {
    "collapsed": true
   },
   "outputs": [],
   "source": [
    "def fx(x):\n",
    "    f = log(1.+x) - ( x / (1. + x) )\n",
    "    return f\n",
    "\n",
    "def c(cvir, c200):\n",
    "    q = 2.058\n",
    "    y = (c200 / cvir) - (fx(c200) / (q * fx(cvir)))**(1./3.)\n",
    "    return y"
   ]
  },
  {
   "cell_type": "code",
   "execution_count": 3,
   "metadata": {
    "collapsed": false
   },
   "outputs": [
    {
     "name": "stdout",
     "output_type": "stream",
     "text": [
      "2.73249426548\n"
     ]
    },
    {
     "data": {
      "image/png": "[encoded data removed]",
      "text/plain": [
       "<matplotlib.figure.Figure at 0x7f1279056710>"
      ]
     },
     "metadata": {},
     "output_type": "display_data"
    }
   ],
   "source": [
    "c_test = linspace(0, 10, 40)\n",
    "plot(c_test, c(10, c_test) ,lw=3)\n",
    "xlabel('$c_{200}$', fontsize=20)\n",
    "ylabel('$ y $', fontsize=20)\n",
    "savefig(\"c200cvir.png\", bbox_inches='tight')\n",
    "print c(1, 4)"
   ]
  },
  {
   "cell_type": "code",
   "execution_count": 14,
   "metadata": {
    "collapsed": false
   },
   "outputs": [],
   "source": [
    "def bissection(cvir):\n",
    "    min_c200 = 0.1\n",
    "    max_c200 = cvir\n",
    "    c_init = 0.5*(min_c200 + max_c200)\n",
    "    y = c(cvir, c_init)\n",
    "    while abs(y) > 0.000002:\n",
    "        #print c_init\n",
    "        if y>0:\n",
    "            max_c200 = c_init\n",
    "        if (y<0) :\n",
    "            min_c200 = c_init\n",
    "        c_init = 0.5*(min_c200 + max_c200)\n",
    "        y = c(cvir, c_init)\n",
    "    return c_init"
   ]
  },
  {
   "cell_type": "code",
   "execution_count": 16,
   "metadata": {
    "collapsed": false
   },
   "outputs": [],
   "source": [
    "c200 = bissection(10)"
   ]
  },
  {
   "cell_type": "code",
   "execution_count": 55,
   "metadata": {
    "collapsed": true
   },
   "outputs": [],
   "source": [
    "def m200mvir(c200, cvir):\n",
    "    x = fx(c200)/fx(cvir)\n",
    "    return x\n",
    "\n",
    "def ars(c):\n",
    "    x = 1 / ( (2.0*fx(c))**(-0.5) - (1.0/c) )\n",
    "    return x\n",
    "\n",
    "def mhmvir(ar, cvir):\n",
    "    x = ar**2 / (2.0*fx(cvir))\n",
    "    return x"
   ]
  },
  {
   "cell_type": "code",
   "execution_count": 77,
   "metadata": {
    "collapsed": false
   },
   "outputs": [
    {
     "name": "stdout",
     "output_type": "stream",
     "text": [
      "c200 =  7.41423377991\n",
      "M200/Mvir =  0.838774411363\n",
      "avir/r_s =  2.08543176875\n",
      "MH/Mvir =  1.46057661037\n",
      "30 14.3855102093\n",
      "1e+12 1.46057661037e+12\n"
     ]
    }
   ],
   "source": [
    "print \"c200 = \", c200\n",
    "M200Mvir =  m200mvir(c200, 10.0)\n",
    "\n",
    "print \"M200/Mvir = \", M200Mvir\n",
    "ar_s = ars(10)\n",
    "\n",
    "print \"avir/r_s = \", ar_s\n",
    "MhMvir =  mhmvir(ar_s, 10)\n",
    "\n",
    "\n",
    "print \"MH/Mvir = \", MhMvir\n",
    "\n",
    "a = 30\n",
    "rs = a / ar_s\n",
    "Mh = 1E12\n",
    "Mvir = Mh * MhMvir\n",
    "print a, rs\n",
    "print Mh, Mvir"
   ]
  },
  {
   "cell_type": "code",
   "execution_count": 78,
   "metadata": {
    "collapsed": true
   },
   "outputs": [],
   "source": [
    "def rho_NFW(rs, r, M):\n",
    "    #a = rvir / c\n",
    "    print a\n",
    "    rho = M / ( 2*np.pi*a**3 *(r/rs)*(1 + r/rs)**2 )\n",
    "    return rho"
   ]
  },
  {
   "cell_type": "code",
   "execution_count": 79,
   "metadata": {
    "collapsed": true
   },
   "outputs": [],
   "source": [
    "def Density_Hernquist(a, r, M):\n",
    "    rho = M / (2 * np.pi) * a / (r*(r+a)**3)\n",
    "    return rho"
   ]
  },
  {
   "cell_type": "code",
   "execution_count": 97,
   "metadata": {
    "collapsed": false
   },
   "outputs": [
    {
     "name": "stderr",
     "output_type": "stream",
     "text": [
      "/usr/local/lib/python2.7/dist-packages/ipykernel/__main__.py:4: RuntimeWarning: divide by zero encountered in divide\n",
      "/usr/local/lib/python2.7/dist-packages/ipykernel/__main__.py:2: RuntimeWarning: divide by zero encountered in divide\n",
      "  from ipykernel import kernelapp as app\n"
     ]
    },
    {
     "name": "stdout",
     "output_type": "stream",
     "text": [
      "30\n"
     ]
    },
    {
     "data": {
      "image/png": "[encoded data removed]",
      "text/plain": [
       "<matplotlib.figure.Figure at 0x7f12737af210>"
      ]
     },
     "metadata": {},
     "output_type": "display_data"
    }
   ],
   "source": [
    "plt.figure(figsize=(7, 5))\n",
    "rr = linspace(0, 10, 100)\n",
    "plot(rr, rho_NFW(rs, rr, Mvir), lw=2, label='NFW', alpha=0.8)\n",
    "plot(rr, Density_Hernquist(a, rr, Mh), lw=2, label='Hernquist', c='k', alpha=0.7)\n",
    "legend(frameon = False)\n",
    "xlabel(\"$r(kpc)$\", fontsize=25)\n",
    "ylabel(r\"$\\rho(M_{\\odot}/kpc^3)$\", fontsize=25)\n",
    "savefig('../figures/hernquistNFW.png', bbox_inches='tight')"
   ]
  },
  {
   "cell_type": "code",
   "execution_count": null,
   "metadata": {
    "collapsed": true
   },
   "outputs": [],
   "source": []
  },
  {
   "cell_type": "code",
   "execution_count": null,
   "metadata": {
    "collapsed": true
   },
   "outputs": [],
   "source": []
  }
 ],
 "metadata": {
  "kernelspec": {
   "display_name": "Python 2",
   "language": "python",
   "name": "python2"
  },
  "language_info": {
   "codemirror_mode": {
    "name": "ipython",
    "version": 2
   },
   "file_extension": ".py",
   "mimetype": "text/x-python",
   "name": "python",
   "nbconvert_exporter": "python",
   "pygments_lexer": "ipython2",
   "version": "2.7.6"
  }
 },
 "nbformat": 4,
 "nbformat_minor": 0
}
