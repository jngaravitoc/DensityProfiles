{
 "cells": [
  {
   "cell_type": "code",
   "execution_count": 2,
   "metadata": {
    "collapsed": false
   },
   "outputs": [
    {
     "name": "stdout",
     "output_type": "stream",
     "text": [
      "Populating the interactive namespace from numpy and matplotlib\n"
     ]
    }
   ],
   "source": [
    "%pylab inline"
   ]
  },
  {
   "cell_type": "code",
   "execution_count": 15,
   "metadata": {
    "collapsed": true
   },
   "outputs": [],
   "source": [
    "def fx(x):\n",
    "    f = log(1.+x) - ( x / (1. + x) )\n",
    "    return f\n",
    "\n",
    "def c(cvir, c200):\n",
    "    q = 2.058\n",
    "    y = (c200 / cvir) - (fx(c200) / (q * fx(cvir)))**(1./3.)\n",
    "    return y"
   ]
  },
  {
   "cell_type": "code",
   "execution_count": 24,
   "metadata": {
    "collapsed": false
   },
   "outputs": [
    {
     "name": "stdout",
     "output_type": "stream",
     "text": [
      "2.73249426548\n"
     ]
    },
    {
     "data": {
      "image/png": "[encoded data removed]",
      "text/plain": [
       "<matplotlib.figure.Figure at 0x7f3c92033e90>"
      ]
     },
     "metadata": {},
     "output_type": "display_data"
    }
   ],
   "source": [
    "c_test = linspace(0, 10, 40)\n",
    "plot(c_test, c(10, c_test) ,lw=3)\n",
    "xlabel('$c_{200}$', fontsize=20)\n",
    "ylabel('$ y $', fontsize=20)\n",
    "savefig(\"c200cvir.png\", bbox_inches='tight')\n",
    "print c(1, 4)"
   ]
  },
  {
   "cell_type": "code",
   "execution_count": 20,
   "metadata": {
    "collapsed": false
   },
   "outputs": [],
   "source": [
    "def bissection(cvir):\n",
    "    min_c200 = 0.1\n",
    "    max_c200 = cvir\n",
    "    c_init = 0.5*(min_c200 + max_c200)\n",
    "    y = c(cvir, c_init)\n",
    "    while abs(y) > 0.000002:\n",
    "        print c_init\n",
    "        if y>0:\n",
    "            max_c200 = c_init\n",
    "        if (y<0) :\n",
    "            min_c200 = c_init\n",
    "        c_init = 0.5*(min_c200 + max_c200)\n",
    "        y = c(cvir, c_init)\n",
    "    return c_init"
   ]
  },
  {
   "cell_type": "code",
   "execution_count": 21,
   "metadata": {
    "collapsed": false
   },
   "outputs": [
    {
     "name": "stdout",
     "output_type": "stream",
     "text": [
      "5.05\n",
      "7.525\n",
      "6.2875\n",
      "6.90625\n",
      "7.215625\n",
      "7.3703125\n",
      "7.44765625\n",
      "7.408984375\n",
      "7.4283203125\n",
      "7.41865234375\n",
      "7.41381835938\n",
      "7.41623535156\n",
      "7.41502685547\n",
      "7.41442260742\n",
      "7.4141204834\n",
      "7.41427154541\n",
      "7.4141960144\n"
     ]
    },
    {
     "data": {
      "text/plain": [
       "7.414233779907228"
      ]
     },
     "execution_count": 21,
     "metadata": {},
     "output_type": "execute_result"
    }
   ],
   "source": [
    "bissection(10)"
   ]
  },
  {
   "cell_type": "code",
   "execution_count": 18,
   "metadata": {
    "collapsed": true
   },
   "outputs": [],
   "source": [
    "def m200mvir(c200, cvir):\n",
    "    x = fx(c200)/fx(cvir)\n",
    "    return x\n",
    "\n",
    "def ars(c):\n",
    "    x = 1 / ( (2*fx(c))**(-0.5) - (1/c) )\n",
    "    return x\n",
    "\n",
    "def mhmvir(c, cvir):\n",
    "    x = ars(c)**2 / (2*fx(cvir))\n",
    "    print ars(c)\n",
    "    return x"
   ]
  },
  {
   "cell_type": "code",
   "execution_count": 19,
   "metadata": {
    "collapsed": false
   },
   "outputs": [
    {
     "name": "stdout",
     "output_type": "stream",
     "text": [
      "0.838476544417\n",
      "1.95910205268\n",
      "1.72557489765\n",
      "1.95910205268\n",
      "1.28898092536\n",
      "1.72557489765\n",
      "1.0\n"
     ]
    }
   ],
   "source": [
    "print m200mvir(7.41, 10.0)\n",
    "print ars(6.054864501953125)\n",
    "print ars(10)\n",
    "print mhmvir(6.054864501953125, 10)\n",
    "print mhmvir(10, 10)"
   ]
  },
  {
   "cell_type": "code",
   "execution_count": null,
   "metadata": {
    "collapsed": true
   },
   "outputs": [],
   "source": []
  }
 ],
 "metadata": {
  "kernelspec": {
   "display_name": "Python 2",
   "language": "python",
   "name": "python2"
  },
  "language_info": {
   "codemirror_mode": {
    "name": "ipython",
    "version": 2
   },
   "file_extension": ".py",
   "mimetype": "text/x-python",
   "name": "python",
   "nbconvert_exporter": "python",
   "pygments_lexer": "ipython2",
   "version": "2.7.6"
  }
 },
 "nbformat": 4,
 "nbformat_minor": 0
}
