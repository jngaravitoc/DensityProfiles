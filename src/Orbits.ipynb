{
 "cells": [
  {
   "cell_type": "code",
   "execution_count": 20,
   "metadata": {
    "collapsed": false
   },
   "outputs": [
    {
     "name": "stdout",
     "output_type": "stream",
     "text": [
      "Populating the interactive namespace from numpy and matplotlib\n"
     ]
    }
   ],
   "source": [
    "%pylab inline\n",
    "from astropy import units\n",
    "import astropy as apy\n",
    "from profiles import *"
   ]
  },
  {
   "cell_type": "markdown",
   "metadata": {},
   "source": [
    "$\\dfrac{d^2 r }{d t^2} = - \\dfrac{GMr}{(r^2 + a^2)^{3/2}}$"
   ]
  },
  {
   "cell_type": "code",
   "execution_count": 87,
   "metadata": {
    "collapsed": false
   },
   "outputs": [
    {
     "name": "stdout",
     "output_type": "stream",
     "text": [
      "4.49975332435e-24 kpc3 / (solMass yr2)\n"
     ]
    }
   ],
   "source": [
    "G = apy.constants.G\n",
    "G = G.to(units.kpc**3 / units.Msun / units.year**2)\n",
    "print G\n",
    "M = 1E12\n",
    "a = 10.0"
   ]
  },
  {
   "cell_type": "code",
   "execution_count": 88,
   "metadata": {
    "collapsed": false
   },
   "outputs": [
    {
     "name": "stdout",
     "output_type": "stream",
     "text": [
      "3.9886125967e-07 kpc / yr\n"
     ]
    }
   ],
   "source": [
    "r_ic = 10 #kpc\n",
    "v_ic = vc_plummer(a, r_ic, M)\n",
    "v_ic = v_ic.to(units.kpc / units.year)\n",
    "print v_ic"
   ]
  },
  {
   "cell_type": "code",
   "execution_count": 89,
   "metadata": {
    "collapsed": true
   },
   "outputs": [],
   "source": [
    "h=0.01\n",
    "min_t = 0.0\n",
    "max_t = 10000.0\n",
    "n_points = int((max_t-min_t)/h)\n",
    "t = zeros(n_points)\n",
    "x = zeros(n_points)\n",
    "vx = zeros(n_points)\n",
    "y = zeros(n_points)\n",
    "vy = zeros(n_points)\n",
    "z = zeros(n_points)\n",
    "vz = zeros(n_points)"
   ]
  },
  {
   "cell_type": "code",
   "execution_count": 90,
   "metadata": {
    "collapsed": false
   },
   "outputs": [],
   "source": [
    "def velocity_x(t, x, vx):\n",
    "    return vx\n",
    "\n",
    "def velocity_y(t, y, vy):\n",
    "    return vy\n",
    "\n",
    "def velocity_z(t, z, vz):\n",
    "    return vz\n",
    "\n",
    "def position_x(t, x, y, z, vx):\n",
    "    return -x * G.value * M/ (x**2  + y**2 + z**2 + a**2)**(3/2.0)\n",
    "\n",
    "def position_y(t, x, y, z, vy):\n",
    "    return -y * G.value * M  / (x**2 + y**2 + z**2 + a**2)**(3/2.0)\n",
    "\n",
    "def position_z(t, x, y, z, vz):\n",
    "    return -z * G.value * M / (x**2 + y**2 + z**2 + a**2)**(3/2.0)\n"
   ]
  },
  {
   "cell_type": "code",
   "execution_count": null,
   "metadata": {
    "collapsed": false
   },
   "outputs": [],
   "source": [
    "t[0] = min_t\n",
    "x[0] = r_ic # Distance \n",
    "y[0] = 0 # Distance \n",
    "z[0] = 0 # Distance \n",
    "\n",
    "vx[0] = 0.0 # velocity \n",
    "vy[0] = v_ic.value # velocity \n",
    "vz[0] = 0.0 # velocity \n",
    "\n",
    "t[1] = min_t + h\n",
    "x[1] = x[0] + h*velocity_x(t[0], x[0], vx[0])\n",
    "y[1] = y[0] + h*velocity_y(t[0], y[0], vy[0])\n",
    "z[1] = z[0] + h*velocity_z(t[0], z[0], vz[0])\n",
    "\n",
    "vx[1] = vx[0] + h*position_x(t[0], x[0], y[0], z[0], vx[0])\n",
    "vy[1] = vy[0] + h*position_y(t[0], x[0], y[0], z[0], vy[0])\n",
    "vz[1] = vz[0] + h*position_z(t[0], x[0], y[0], z[0], vz[0])\n",
    "\n",
    "for i in range(2,n_points):\n",
    "    t[i] = t[i-1] + h\n",
    "    \n",
    "    x[i] = x[i-2] + 2 * h * velocity_x(t[i-1], x[i-1], vx[i-1])\n",
    "    y[i] = y[i-2] + 2 * h * velocity_y(t[i-1], y[i-1], vy[i-1])\n",
    "    z[i] = z[i-2] + 2 * h * velocity_z(t[i-1], z[i-1], vz[i-1])\n",
    "    \n",
    "    vx[i] = vx[i-2] + 2 * h * position_x(t[i-1], x[i-1], y[i-1], z[i-1], vx[i-1])\n",
    "    vy[i] = vy[i-2] + 2 * h * position_y(t[i-1], x[i-1], y[i-1], z[i-1], vy[i-1])\n",
    "    vz[i] = vz[i-2] + 2 * h * position_z(t[i-1],x[i-1], y[i-1], z[i-1], vz[i-1])"
   ]
  },
  {
   "cell_type": "code",
   "execution_count": null,
   "metadata": {
    "collapsed": false
   },
   "outputs": [],
   "source": [
    "plot(t, x)"
   ]
  },
  {
   "cell_type": "code",
   "execution_count": null,
   "metadata": {
    "collapsed": false
   },
   "outputs": [],
   "source": [
    "plot(x, y)"
   ]
  },
  {
   "cell_type": "code",
   "execution_count": null,
   "metadata": {
    "collapsed": true
   },
   "outputs": [],
   "source": []
  }
 ],
 "metadata": {
  "kernelspec": {
   "display_name": "Python 2",
   "language": "python",
   "name": "python2"
  },
  "language_info": {
   "codemirror_mode": {
    "name": "ipython",
    "version": 2
   },
   "file_extension": ".py",
   "mimetype": "text/x-python",
   "name": "python",
   "nbconvert_exporter": "python",
   "pygments_lexer": "ipython2",
   "version": "2.7.6"
  }
 },
 "nbformat": 4,
 "nbformat_minor": 0
}
