{
 "cells": [
  {
   "cell_type": "code",
   "execution_count": 85,
   "metadata": {
    "collapsed": false
   },
   "outputs": [
    {
     "name": "stdout",
     "output_type": "stream",
     "text": [
      "Populating the interactive namespace from numpy and matplotlib\n"
     ]
    }
   ],
   "source": [
    "%pylab inline"
   ]
  },
  {
   "cell_type": "markdown",
   "metadata": {},
   "source": [
    "$\\dfrac{d^2 r }{d t^2} = - \\dfrac{GMr}{(r^2 + a^2)^{3/2}}$"
   ]
  },
  {
   "cell_type": "code",
   "execution_count": 100,
   "metadata": {
    "collapsed": true
   },
   "outputs": [],
   "source": [
    "h=0.01\n",
    "min_t = 0.0\n",
    "max_t = 260.0\n",
    "n_points = int((max_t-min_t)/h)\n",
    "t = zeros(n_points)\n",
    "x = zeros(n_points)\n",
    "vx = zeros(n_points)\n",
    "y = zeros(n_points)\n",
    "vy = zeros(n_points)\n",
    "z = zeros(n_points)\n",
    "vz = zeros(n_points)"
   ]
  },
  {
   "cell_type": "code",
   "execution_count": 106,
   "metadata": {
    "collapsed": false
   },
   "outputs": [],
   "source": [
    "def velocity_x(t, x, vx):\n",
    "    return vx\n",
    "\n",
    "def velocity_y(t, y, vy):\n",
    "    return vy\n",
    "\n",
    "def velocity_z(t, z, vz):\n",
    "    return vz\n",
    "\n",
    "def position_x(t, x, y, z, vx):\n",
    "    a = 1. # Scale length\n",
    "    return -x / (x**2  + y**2 + z**2 + a**2)**(3/2.0)\n",
    "\n",
    "def position_y(t, x, y, z, vy):\n",
    "    a = 1. # Scale length\n",
    "    return -y / (x**2 + y**2 + z**2 + a**2)**(3/2.0)\n",
    "\n",
    "def position_z(t, x, y, z, vz):\n",
    "    a = 1. # Scale length\n",
    "    return -z / (x**2 + y**2 + z**2 + a**2)**(3/2.0)\n"
   ]
  },
  {
   "cell_type": "code",
   "execution_count": 107,
   "metadata": {
    "collapsed": false
   },
   "outputs": [],
   "source": [
    "t[0] = min_t\n",
    "x[0] = 2.5 # Distance \n",
    "y[0] = 2.5 # Distance \n",
    "z[0] = 2.5 # Distance \n",
    "\n",
    "vx[0] = 0.0 # velocity \n",
    "vy[0] = 0.0 # velocity \n",
    "vz[0] = 0.0 # velocity \n",
    "\n",
    "t[1] = min_t + h\n",
    "x[1] = x[0] + h*velocity_x(t[0], x[0], vx[0])\n",
    "y[1] = y[0] + h*velocity_y(t[0], y[0], vy[0])\n",
    "z[1] = z[0] + h*velocity_z(t[0], z[0], vz[0])\n",
    "\n",
    "vx[1] = vx[0] + h*position_x(t[0], x[0], y[0], z[0], vx[0])\n",
    "vy[1] = vy[0] + h*position_y(t[0], x[0], y[0], z[0], vy[0])\n",
    "vz[1] = vz[0] + h*position_z(t[0], x[0], y[0], z[0], vz[0])\n",
    "\n",
    "for i in range(2,n_points):\n",
    "    t[i] = t[i-1] + h\n",
    "    \n",
    "    x[i] = x[i-2] + 2 * h * velocity_x(t[i-1], x[i-1], vx[i-1])\n",
    "    y[i] = y[i-2] + 2 * h * velocity_y(t[i-1], y[i-1], vy[i-1])\n",
    "    z[i] = z[i-2] + 2 * h * velocity_z(t[i-1], z[i-1], vz[i-1])\n",
    "    \n",
    "    vx[i] = vx[i-2] + 2 * h * position_x(t[i-1], x[i-1], y[i-1], z[i-1], vx[i-1])\n",
    "    vy[i] = vy[i-2] + 2 * h * position_y(t[i-1], x[i-1], y[i-1], z[i-1], vy[i-1])\n",
    "    vz[i] = vz[i-2] + 2 * h * position_z(t[i-1],x[i-1], y[i-1], z[i-1], vz[i-1])"
   ]
  },
  {
   "cell_type": "code",
   "execution_count": 108,
   "metadata": {
    "collapsed": false
   },
   "outputs": [
    {
     "data": {
      "text/plain": [
       "[<matplotlib.lines.Line2D at 0x7fe550b87210>]"
      ]
     },
     "execution_count": 108,
     "metadata": {},
     "output_type": "execute_result"
    },
    {
     "data": {
      "image/png": "[encoded data removed]",
      "text/plain": [
       "<matplotlib.figure.Figure at 0x7fe550b0f610>"
      ]
     },
     "metadata": {},
     "output_type": "display_data"
    }
   ],
   "source": [
    "plot(t, x)"
   ]
  },
  {
   "cell_type": "code",
   "execution_count": null,
   "metadata": {
    "collapsed": true
   },
   "outputs": [],
   "source": []
  }
 ],
 "metadata": {
  "kernelspec": {
   "display_name": "Python 2",
   "language": "python",
   "name": "python2"
  },
  "language_info": {
   "codemirror_mode": {
    "name": "ipython",
    "version": 2
   },
   "file_extension": ".py",
   "mimetype": "text/x-python",
   "name": "python",
   "nbconvert_exporter": "python",
   "pygments_lexer": "ipython2",
   "version": "2.7.6"
  }
 },
 "nbformat": 4,
 "nbformat_minor": 0
}
