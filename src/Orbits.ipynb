{
 "cells": [
  {
   "cell_type": "code",
   "execution_count": 1,
   "metadata": {
    "collapsed": false,
    "scrolled": true
   },
   "outputs": [
    {
     "name": "stderr",
     "output_type": "stream",
     "text": [
      "/usr/lib/pymodules/python2.7/matplotlib/__init__.py:758: UserWarning: Found matplotlib configuration in ~/.matplotlib/. To conform with the XDG base directory standard, this configuration location has been deprecated on Linux, and the new location is now '/home/ngaravito/.config'/matplotlib/. Please move your configuration there to ensure that matplotlib will continue to find it in the future.\n",
      "  _get_xdg_config_dir())\n",
      "/usr/local/lib/python2.7/dist-packages/IPython/kernel/__init__.py:13: ShimWarning: The `IPython.kernel` package has been deprecated. You should import from ipykernel or jupyter_client instead.\n",
      "  \"You should import from ipykernel or jupyter_client instead.\", ShimWarning)\n"
     ]
    },
    {
     "name": "stdout",
     "output_type": "stream",
     "text": [
      "Populating the interactive namespace from numpy and matplotlib\n"
     ]
    }
   ],
   "source": [
    "%pylab inline\n",
    "from astropy import units\n",
    "import astropy as apy\n",
    "from profiles import *\n",
    "from math import erf"
   ]
  },
  {
   "cell_type": "markdown",
   "metadata": {},
   "source": [
    "# To do \n",
    "\n",
    "1. test for other iniital positions! and for all the models! \n",
    "2. Dynamical Friction\n",
    "3. Allow the MW to move due to the LMC! "
   ]
  },
  {
   "cell_type": "code",
   "execution_count": 8,
   "metadata": {
    "collapsed": false
   },
   "outputs": [
    {
     "name": "stdout",
     "output_type": "stream",
     "text": [
      "4.51835939627e-39 kpc3 / (s2 solMass)\n",
      "3.15576e+16\n"
     ]
    }
   ],
   "source": [
    "G = apy.constants.G\n",
    "G = G.to(units.kpc**3 / units.Msun / units.s**2)\n",
    "print G\n",
    "M = 1E12\n",
    "a = 10.0\n",
    "Gyr = 1E9 * 365.25 * 24 * 60 * 60\n",
    "print Gyr"
   ]
  },
  {
   "cell_type": "code",
   "execution_count": 9,
   "metadata": {
    "collapsed": false
   },
   "outputs": [
    {
     "name": "stdout",
     "output_type": "stream",
     "text": [
      "31.7626960858 km / s 68.3448982096 km / s 196.48237618 km / s\n",
      "215.22009359 kpc / Gyr\n",
      "215.22009359\n"
     ]
    }
   ],
   "source": [
    "x_ic = 40.0 #kpc\n",
    "y_ic = 0.0\n",
    "z_ic = 10.0\n",
    "v1 = vc_hernquist(0.7, x_ic, y_ic, z_ic, 1E10) \n",
    "v2 = vc_mn(6.5, 0.6, x_ic, y_ic, z_ic, 5.5E10) # a, b, z, r, M\n",
    "v3 = vc_NFW(11.0, x_ic, y_ic, z_ic, 1E12)\n",
    "\n",
    "print v1, v2, v3\n",
    "v_ic = np.sqrt(v1**2 + v2**2 + v3**2)\n",
    "v_ic = v_ic.to(units.kpc / units.Gyr) #/ np.sqrt(G*M)\n",
    "\n",
    "print v_ic\n",
    "print v_ic.value"
   ]
  },
  {
   "cell_type": "code",
   "execution_count": 10,
   "metadata": {
    "collapsed": false
   },
   "outputs": [],
   "source": [
    "def acceleration(x, y, z):\n",
    "    M_bulge = 1E10\n",
    "    M_disk = 5.5E10\n",
    "    M_halo = 1E12\n",
    "    abulge = a_hernquist(0.7, x, y, z, M_bulge)\n",
    "    adisk = a_mn(6.5, 0.6, x, y, z, M_disk)\n",
    "    ahalo = a_NFW(11.0, x, y, z, M_halo)\n",
    "    #print abulge, adisk, ahalo\n",
    "    ax = abulge[0] + adisk[0] + ahalo[0]\n",
    "    ay = abulge[1] + adisk[1] + ahalo[1]\n",
    "    az = abulge[2] + adisk[2] + ahalo[2]\n",
    "    ax = ax.to(units.kpc/units.Gyr**2) # / G.value / M_bulge\n",
    "    ay = ay.to(units.kpc/units.Gyr**2) #/ G.value / M_bulge\n",
    "    az = az.to(units.kpc/units.Gyr**2) #/ G.value / M_bulge\n",
    "    return ax.value, ay.value, az.value"
   ]
  },
  {
   "cell_type": "code",
   "execution_count": 11,
   "metadata": {
    "collapsed": false
   },
   "outputs": [
    {
     "data": {
      "text/plain": [
       "(-4194.368897961808, -0.0, -0.0)"
      ]
     },
     "execution_count": 11,
     "metadata": {},
     "output_type": "execute_result"
    }
   ],
   "source": [
    "def accelerationB(x, y, z):\n",
    "    M_bulge = 1E10\n",
    "    M_disk = 5.5E10\n",
    "    M_halo = 1E12\n",
    "    #abulge = a_hernquist(0.7, x, y, z, M_bulge) \n",
    "    #adisk = a_mn(6.5, 0.6, x, y, z, M_disk)\n",
    "    ahalo = a_NFW(11.0, x, y, z, M_halo)\n",
    "    ax = ahalo[0].to(units.kpc/units.Gyr**2) # / G.value / M_bulge\n",
    "    ay = ahalo[1].to(units.kpc/units.Gyr**2) #/ G.value / M_bulge\n",
    "    az = ahalo[2].to(units.kpc/units.Gyr**2) #/ G.value / M_bulge\n",
    "    return ax.value, ay.value, az.value\n",
    "acceleration(10, 0, 0)"
   ]
  },
  {
   "cell_type": "code",
   "execution_count": 12,
   "metadata": {
    "collapsed": false
   },
   "outputs": [],
   "source": [
    "n_points = 3000\n",
    "h = 0.001\n",
    "\n",
    "t = zeros(n_points)\n",
    "\n",
    "x = zeros(n_points)\n",
    "y = zeros(n_points)\n",
    "z = zeros(n_points)\n",
    "\n",
    "vx = zeros(n_points)\n",
    "vy = zeros(n_points)\n",
    "vz = zeros(n_points)\n",
    "\n",
    "\n",
    "ax = zeros(n_points)\n",
    "ay = zeros(n_points)\n",
    "az = zeros(n_points)\n",
    "\n",
    "t[0] = 0\n",
    "\n",
    "x[0] = x_ic # Distance \n",
    "y[0] = y_ic # Distance \n",
    "z[0] = z_ic\n",
    "# Distance \n",
    "\n",
    "vx[0] = 0.0 #v_ic.value # velocity \n",
    "vy[0] = v_ic.value #v_ic.value #v_ic.value # velocity \n",
    "vz[0] = 0.0 # velocity \n",
    "\n",
    "ax[0] = acceleration(x[0], y[0], z[0])[0]\n",
    "ay[0] = acceleration(x[0], y[0], z[0])[1]\n",
    "az[0] = acceleration(x[0], y[0], z[0])[2]\n",
    "\n",
    "t[1] = t[0] + h\n",
    "x[1] = x[0] + h * vx[0]\n",
    "y[1] = y[0] + h * vy[0]\n",
    "z[1] = z[0] + h * vz[0]\n",
    "\n",
    "vx[1] = vx[0] + h*acceleration(x[0], y[0], z[0])[0]\n",
    "vy[1] = vy[0] + h*acceleration(x[0], y[0], z[0])[1]\n",
    "vz[1] = vz[0] + h*acceleration(x[0], y[0], z[0])[2]\n",
    "\n",
    "ax[1] = acceleration(x[1],y[1], z[1])[0]\n",
    "ay[1] = acceleration(x[1],y[1], z[1])[1]\n",
    "az[1] = acceleration(x[1],y[1], z[1])[2]\n",
    "\n",
    "for i in range(2,n_points):\n",
    "    t[i] = t[i-1] + h\n",
    "    \n",
    "    x[i] = x[i-2] + 2 * h * vx[i-1]\n",
    "    y[i] = y[i-2] + 2 * h * vy[i-1]\n",
    "    z[i] = z[i-2] + 2 * h * vz[i-1]\n",
    "\n",
    "    vx[i] = vx[i-2] + 2 * h * acceleration(x[i-1], y[i-1], z[i-1])[0]\n",
    "    vy[i] = vy[i-2] + 2 * h * acceleration(x[i-1], y[i-1], z[i-1])[1]\n",
    "    vz[i] = vz[i-2] + 2 * h * acceleration(x[i-1], y[i-1], z[i-1])[2]"
   ]
  },
  {
   "cell_type": "code",
   "execution_count": 13,
   "metadata": {
    "collapsed": false
   },
   "outputs": [
    {
     "data": {
      "image/png": "[encoded data removed]",
      "text/plain": [
       "<matplotlib.figure.Figure at 0x7fb92caf1f10>"
      ]
     },
     "metadata": {},
     "output_type": "display_data"
    }
   ],
   "source": [
    "plot(x, y)\n",
    "title(r'$\\mathrm{Hernquist,\\ MN,\\ NFW}$', fontsize=25)\n",
    "xlabel('$x(kpc)$', fontsize=25)\n",
    "ylabel('$y(kpc)$', fontsize=25)\n",
    "savefig('MWvc.png')"
   ]
  },
  {
   "cell_type": "code",
   "execution_count": 14,
   "metadata": {
    "collapsed": false
   },
   "outputs": [
    {
     "data": {
      "text/plain": [
       "<matplotlib.text.Text at 0x7fb92caf1350>"
      ]
     },
     "execution_count": 14,
     "metadata": {},
     "output_type": "execute_result"
    },
    {
     "data": {
      "image/png": "[encoded data removed]",
      "text/plain": [
       "<matplotlib.figure.Figure at 0x7fb92cc23250>"
      ]
     },
     "metadata": {},
     "output_type": "display_data"
    }
   ],
   "source": [
    "plot(t, np.sqrt(x**2+y**2))\n",
    "plt.ylim(35, 45)\n",
    "plt.xlabel('$Gyrs$', fontsize=25)"
   ]
  },
  {
   "cell_type": "code",
   "execution_count": null,
   "metadata": {
    "collapsed": true
   },
   "outputs": [],
   "source": []
  },
  {
   "cell_type": "code",
   "execution_count": null,
   "metadata": {
    "collapsed": true
   },
   "outputs": [],
   "source": []
  }
 ],
 "metadata": {
  "kernelspec": {
   "display_name": "Python 2",
   "language": "python",
   "name": "python2"
  },
  "language_info": {
   "codemirror_mode": {
    "name": "ipython",
    "version": 2
   },
   "file_extension": ".py",
   "mimetype": "text/x-python",
   "name": "python",
   "nbconvert_exporter": "python",
   "pygments_lexer": "ipython2",
   "version": "2.7.6"
  }
 },
 "nbformat": 4,
 "nbformat_minor": 0
}
