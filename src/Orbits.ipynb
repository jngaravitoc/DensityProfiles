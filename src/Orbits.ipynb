{
 "cells": [
  {
   "cell_type": "code",
   "execution_count": 1,
   "metadata": {
    "collapsed": false
   },
   "outputs": [
    {
     "name": "stdout",
     "output_type": "stream",
     "text": [
      "Populating the interactive namespace from numpy and matplotlib\n"
     ]
    }
   ],
   "source": [
    "%pylab inline"
   ]
  },
  {
   "cell_type": "markdown",
   "metadata": {},
   "source": [
    "$\\dfrac{d^2 r }{d t^2} = - \\dfrac{GMr}{(r^2 + a^2)^{3/2}}$"
   ]
  },
  {
   "cell_type": "code",
   "execution_count": 14,
   "metadata": {
    "collapsed": true
   },
   "outputs": [],
   "source": [
    "h=0.01\n",
    "min_t = 0.0\n",
    "max_t = 26.0\n",
    "n_points = int((max_t-min_t)/h)\n",
    "t = zeros(n_points)\n",
    "y_1 = zeros(n_points)\n",
    "y_2 = zeros(n_points)"
   ]
  },
  {
   "cell_type": "code",
   "execution_count": 15,
   "metadata": {
    "collapsed": true
   },
   "outputs": [],
   "source": [
    "def func_prime_1(t, y_1, y_2):\n",
    "    return y_2\n",
    "\n",
    "def func_prime_2(t, y_1, y_2):\n",
    "    a = 1.\n",
    "    return -y_1 / (y_1**2 + a**2)**(3/2.0)"
   ]
  },
  {
   "cell_type": "code",
   "execution_count": 18,
   "metadata": {
    "collapsed": false
   },
   "outputs": [],
   "source": [
    "t[0] = min_t\n",
    "y_1[0] = 1.0\n",
    "y_2[0] = 1.0\n",
    "\n",
    "for i in range(1,n_points):\n",
    "    #get the first derivatives\n",
    "    y_prime_1 = func_prime_1(t[i-1], y_1[i-1], y_2[i-1])\n",
    "    y_prime_2 = func_prime_2(t[i-1], y_1[i-1], y_2[i-1])\n",
    "    \n",
    "\n",
    "    t[i] = t[i-1] + h\n",
    "    y_1[i] = y_1[i-1] + h * func_prime_1(t[i-1], y_1[i-1], y_2[i-1])\n",
    "    y_2[i] = y_2[i-1] + h * func_prime_2(t[i-1], y_1[i-1], y_2[i-1])"
   ]
  },
  {
   "cell_type": "code",
   "execution_count": 19,
   "metadata": {
    "collapsed": false
   },
   "outputs": [
    {
     "data": {
      "text/plain": [
       "[<matplotlib.lines.Line2D at 0x7f27b8ea5890>]"
      ]
     },
     "execution_count": 19,
     "metadata": {},
     "output_type": "execute_result"
    },
    {
     "data": {
      "image/png": "[encoded data removed]",
      "text/plain": [
       "<matplotlib.figure.Figure at 0x7f27b8f133d0>"
      ]
     },
     "metadata": {},
     "output_type": "display_data"
    }
   ],
   "source": [
    "plot(t, y_1)"
   ]
  },
  {
   "cell_type": "code",
   "execution_count": null,
   "metadata": {
    "collapsed": true
   },
   "outputs": [],
   "source": []
  }
 ],
 "metadata": {
  "kernelspec": {
   "display_name": "Python 2",
   "language": "python",
   "name": "python2"
  },
  "language_info": {
   "codemirror_mode": {
    "name": "ipython",
    "version": 2
   },
   "file_extension": ".py",
   "mimetype": "text/x-python",
   "name": "python",
   "nbconvert_exporter": "python",
   "pygments_lexer": "ipython2",
   "version": "2.7.6"
  }
 },
 "nbformat": 4,
 "nbformat_minor": 0
}
