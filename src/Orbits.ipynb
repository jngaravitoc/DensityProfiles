{
 "cells": [
  {
   "cell_type": "code",
   "execution_count": 1,
   "metadata": {
    "collapsed": false
   },
   "outputs": [
    {
     "name": "stdout",
     "output_type": "stream",
     "text": [
      "Populating the interactive namespace from numpy and matplotlib\n"
     ]
    },
    {
     "name": "stderr",
     "output_type": "stream",
     "text": [
      "/usr/lib/pymodules/python2.7/matplotlib/__init__.py:758: UserWarning: Found matplotlib configuration in ~/.matplotlib/. To conform with the XDG base directory standard, this configuration location has been deprecated on Linux, and the new location is now '/home/ngaravito/.config'/matplotlib/. Please move your configuration there to ensure that matplotlib will continue to find it in the future.\n",
      "  _get_xdg_config_dir())\n"
     ]
    }
   ],
   "source": [
    "%pylab inline"
   ]
  },
  {
   "cell_type": "markdown",
   "metadata": {},
   "source": [
    "$\\dfrac{d^2 r }{d t^2} = - \\dfrac{GMr}{(r^2 + a^2)^{3/2}}$"
   ]
  },
  {
   "cell_type": "code",
   "execution_count": 44,
   "metadata": {
    "collapsed": true
   },
   "outputs": [],
   "source": [
    "h=0.01\n",
    "min_t = 0.0\n",
    "max_t = 260.0\n",
    "n_points = int((max_t-min_t)/h)\n",
    "t = zeros(n_points)\n",
    "x_1 = zeros(n_points)\n",
    "x_2 = zeros(n_points)"
   ]
  },
  {
   "cell_type": "code",
   "execution_count": 45,
   "metadata": {
    "collapsed": true
   },
   "outputs": [],
   "source": [
    "def func_prime_1(t, x_1, x_2):\n",
    "    return x_2\n",
    "\n",
    "def func_prime_2(t, x_1, x_2):\n",
    "    a = 1.\n",
    "    return -x_1 / (x_1**2 + a**2)**(3/2.0)"
   ]
  },
  {
   "cell_type": "code",
   "execution_count": 46,
   "metadata": {
    "collapsed": false
   },
   "outputs": [],
   "source": [
    "t[0] = min_t\n",
    "x_1[0] = 2.5\n",
    "x_2[0] = 0.0\n",
    "\n",
    "t[1] = min_t + h\n",
    "x_1[1] = x_1[0] + h*func_prime_1(t[0],x_1[0], x_2[0])\n",
    "x_2[1] = x_2[0] + h*func_prime_2(t[0],x_1[0], x_2[0])\n",
    "\n",
    "for i in range(2,n_points):\n",
    "    #get the first derivatives\n",
    "    x_prime_1 = func_prime_1(t[i-1], x_1[i-1], x_2[i-1])\n",
    "    x_prime_2 = func_prime_2(t[i-1], x_1[i-1], x_2[i-1])\n",
    "    \n",
    "\n",
    "    t[i] = t[i-1] + h\n",
    "    x_1[i] = x_1[i-2] + 2 * h * func_prime_1(t[i-1], x_1[i-1], x_2[i-1])\n",
    "    x_2[i] = x_2[i-2] + 2 * h * func_prime_2(t[i-1], x_1[i-1], x_2[i-1])"
   ]
  },
  {
   "cell_type": "code",
   "execution_count": 47,
   "metadata": {
    "collapsed": false
   },
   "outputs": [
    {
     "data": {
      "text/plain": [
       "[<matplotlib.lines.Line2D at 0x7fe551f38690>]"
      ]
     },
     "execution_count": 47,
     "metadata": {},
     "output_type": "execute_result"
    },
    {
     "data": {
      "image/png": "[encoded data removed]",
      "text/plain": [
       "<matplotlib.figure.Figure at 0x7fe551f436d0>"
      ]
     },
     "metadata": {},
     "output_type": "display_data"
    }
   ],
   "source": [
    "plot(t, x_1)"
   ]
  },
  {
   "cell_type": "code",
   "execution_count": null,
   "metadata": {
    "collapsed": true
   },
   "outputs": [],
   "source": []
  }
 ],
 "metadata": {
  "kernelspec": {
   "display_name": "Python 2",
   "language": "python",
   "name": "python2"
  },
  "language_info": {
   "codemirror_mode": {
    "name": "ipython",
    "version": 2
   },
   "file_extension": ".py",
   "mimetype": "text/x-python",
   "name": "python",
   "nbconvert_exporter": "python",
   "pygments_lexer": "ipython2",
   "version": "2.7.6"
  }
 },
 "nbformat": 4,
 "nbformat_minor": 0
}
