{
 "cells": [
  {
   "cell_type": "code",
   "execution_count": 1,
   "metadata": {
    "collapsed": false
   },
   "outputs": [
    {
     "name": "stdout",
     "output_type": "stream",
     "text": [
      "Populating the interactive namespace from numpy and matplotlib\n"
     ]
    },
    {
     "name": "stderr",
     "output_type": "stream",
     "text": [
      "/usr/local/lib/python2.7/dist-packages/IPython/kernel/__init__.py:13: ShimWarning: The `IPython.kernel` package has been deprecated. You should import from ipykernel or jupyter_client instead.\n",
      "  \"You should import from ipykernel or jupyter_client instead.\", ShimWarning)\n"
     ]
    }
   ],
   "source": [
    "%pylab inline\n",
    "from astropy import units\n",
    "import astropy as apy\n",
    "from profiles import *"
   ]
  },
  {
   "cell_type": "markdown",
   "metadata": {},
   "source": [
    "$\\dfrac{d^2 r }{d t^2} = - \\dfrac{GMr}{(r^2 + a^2)^{3/2}}$"
   ]
  },
  {
   "cell_type": "code",
   "execution_count": 2,
   "metadata": {
    "collapsed": false
   },
   "outputs": [
    {
     "name": "stdout",
     "output_type": "stream",
     "text": [
      "4.51835939627e-39 kpc3 / (s2 solMass)\n",
      "3.15576e+16\n"
     ]
    }
   ],
   "source": [
    "G = apy.constants.G\n",
    "G = G.to(units.kpc**3 / units.Msun / units.s**2)\n",
    "print G\n",
    "M = 1E12\n",
    "a = 10.0\n",
    "Gyr = 1E9 * 365.25 * 24 * 60 * 60\n",
    "print Gyr"
   ]
  },
  {
   "cell_type": "code",
   "execution_count": 15,
   "metadata": {
    "collapsed": false
   },
   "outputs": [
    {
     "name": "stdout",
     "output_type": "stream",
     "text": [
      "0.189424162584 solMass(1/2) / kpc(1/2)\n",
      "0.189424162584 50.0\n"
     ]
    }
   ],
   "source": [
    "r_ic = 50.0 #kpc\n",
    "v1 = vc_hernquist(0.6, 10.0, 1E10) \n",
    "v2 = vc_mn(6.5, 0.6, 0, 10.0, 5.5E10)\n",
    "v3 = vc_NFW(11.0, 10.0, 0, 0 , 1E12)\n",
    "v2=0\n",
    "v_ic = np.sqrt(v1**2 + v2**2 + v3**2)\n",
    "v_ic = v_ic.to(units.kpc / units.s) / np.sqrt(G*M)\n",
    "print v_ic\n",
    "print v_ic.value, r_ic"
   ]
  },
  {
   "cell_type": "code",
   "execution_count": 7,
   "metadata": {
    "collapsed": false
   },
   "outputs": [],
   "source": [
    "def accelerationA(x, y, z):\n",
    "    abulge = a_hernquist(0.7, x, y, z)\n",
    "    adisk = a_mn(6.5, 0.6, x, y, z)\n",
    "    ahalo = a_NFW(11.0, x, y, z, 1E12)\n",
    "    ax = abulge[0].value + adisk[0].value + ahalo[0].value\n",
    "    ay = abulge[1].value + adisk[1].value + ahalo[1].value\n",
    "    az = abulge[2].value + adisk[2].value + ahalo[2].value\n",
    "    return ax, ay, az"
   ]
  },
  {
   "cell_type": "code",
   "execution_count": 16,
   "metadata": {
    "collapsed": true
   },
   "outputs": [],
   "source": [
    "def acceleration(x, y, z):\n",
    "    abulge = a_hernquist(0.7, x, y, z)\n",
    "    #adisk = a_mn(6.5, 0.6, x, y, z)\n",
    "    ahalo = a_NFW(11.0, x, y, z, 1E12)\n",
    "    ax = abulge[0].value +  ahalo[0].value\n",
    "    ay = abulge[1].value +  ahalo[1].value\n",
    "    az = abulge[2].value +  ahalo[2].value\n",
    "    return ax, ay, az"
   ]
  },
  {
   "cell_type": "code",
   "execution_count": 18,
   "metadata": {
    "collapsed": false
   },
   "outputs": [],
   "source": [
    "n_points = 1000\n",
    "h = 0.1\n",
    "a = 10.0\n",
    "\n",
    "t = zeros(n_points)\n",
    "\n",
    "x = zeros(n_points)\n",
    "y = zeros(n_points)\n",
    "z = zeros(n_points)\n",
    "\n",
    "vx = zeros(n_points)\n",
    "vy = zeros(n_points)\n",
    "vz = zeros(n_points)\n",
    "\n",
    "\n",
    "ax = zeros(n_points)\n",
    "ay = zeros(n_points)\n",
    "az = zeros(n_points)\n",
    "\n",
    "\n",
    "r_ic = 10.0 #kpc\n",
    "\n",
    "t[0] = 0\n",
    "\n",
    "x[0] = r_ic # Distance \n",
    "y[0] = 0 # Distance \n",
    "z[0] = 0 # Distance \n",
    "\n",
    "vx[0] = 0.0 # velocity \n",
    "vy[0] = v_ic.value # velocity \n",
    "vz[0] = 0.0 # velocity \n",
    "\n",
    "ax[0] = acceleration(x[0], y[0], z[0])[0]\n",
    "ay[0] = acceleration(x[0], y[0], z[0])[1]\n",
    "az[0] = acceleration(x[0], y[0], z[0])[2]\n",
    "\n",
    "t[1] = t[0] + h\n",
    "x[1] = x[0] + h * vx[0]\n",
    "y[1] = y[0] + h * vy[0]\n",
    "z[1] = z[0] + h * vz[0]\n",
    "\n",
    "vx[1] = vx[0] + h*acceleration(x[0], y[0], z[0])[0]\n",
    "vy[1] = vy[0] + h*acceleration(x[0], y[0], z[0])[1]\n",
    "vz[1] = vz[0] + h*acceleration(x[0], y[0], z[0])[2]\n",
    "\n",
    "ax[1] = acceleration(x[1],y[1], z[1])[0]\n",
    "ay[1] = acceleration(x[1],y[1], z[1])[1]\n",
    "az[1] = acceleration(x[1],y[1], z[1])[2]\n",
    "\n",
    "for i in range(2,n_points):\n",
    "    t[i] = t[i-1] + h\n",
    "    \n",
    "    x[i] = x[i-2] + 2 * h * vx[i-1]\n",
    "    y[i] = y[i-2] + 2 * h * vy[i-1]\n",
    "    z[i] = z[i-2] + 2 * h * vz[i-1]\n",
    "\n",
    "    vx[i] = vx[i-2] + 2 * h * acceleration(x[i-1], y[i-1], z[i-1])[0]\n",
    "    vy[i] = vy[i-2] + 2 * h * acceleration(x[i-1], y[i-1], z[i-1])[1]\n",
    "    vz[i] = vz[i-2] + 2 * h * acceleration(x[i-1], y[i-1], z[i-1])[2]"
   ]
  },
  {
   "cell_type": "code",
   "execution_count": 19,
   "metadata": {
    "collapsed": false
   },
   "outputs": [
    {
     "data": {
      "text/plain": [
       "[<matplotlib.lines.Line2D at 0x7f891d998a10>]"
      ]
     },
     "execution_count": 19,
     "metadata": {},
     "output_type": "execute_result"
    },
    {
     "data": {
      "image/png": "[encoded data removed]",
      "text/plain": [
       "<matplotlib.figure.Figure at 0x7f891da55ad0>"
      ]
     },
     "metadata": {},
     "output_type": "display_data"
    }
   ],
   "source": [
    "plot(x, y)"
   ]
  },
  {
   "cell_type": "code",
   "execution_count": 20,
   "metadata": {
    "collapsed": false
   },
   "outputs": [
    {
     "data": {
      "text/plain": [
       "[<matplotlib.lines.Line2D at 0x7f891d90e750>]"
      ]
     },
     "execution_count": 20,
     "metadata": {},
     "output_type": "execute_result"
    },
    {
     "data": {
      "image/png": "[encoded data removed]",
      "text/plain": [
       "<matplotlib.figure.Figure at 0x7f891d9fc290>"
      ]
     },
     "metadata": {},
     "output_type": "display_data"
    }
   ],
   "source": [
    "plot(t / np.sqrt(G*M) / Gyr, np.sqrt(x**2+y**2))\n",
    "#plt.ylim(5, 15)"
   ]
  },
  {
   "cell_type": "code",
   "execution_count": null,
   "metadata": {
    "collapsed": true
   },
   "outputs": [],
   "source": []
  },
  {
   "cell_type": "code",
   "execution_count": null,
   "metadata": {
    "collapsed": true
   },
   "outputs": [],
   "source": []
  }
 ],
 "metadata": {
  "kernelspec": {
   "display_name": "Python 2",
   "language": "python",
   "name": "python2"
  },
  "language_info": {
   "codemirror_mode": {
    "name": "ipython",
    "version": 2
   },
   "file_extension": ".py",
   "mimetype": "text/x-python",
   "name": "python",
   "nbconvert_exporter": "python",
   "pygments_lexer": "ipython2",
   "version": "2.7.6"
  }
 },
 "nbformat": 4,
 "nbformat_minor": 0
}
